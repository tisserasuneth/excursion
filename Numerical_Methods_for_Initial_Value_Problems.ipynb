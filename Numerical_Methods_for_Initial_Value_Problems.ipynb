{
  "cells": [
    {
      "cell_type": "markdown",
      "metadata": {
        "id": "view-in-github",
        "colab_type": "text"
      },
      "source": [
        "<a href=\"https://colab.research.google.com/github/tisserasuneth/excursion/blob/main/Numerical_Methods_for_Initial_Value_Problems.ipynb\" target=\"_parent\"><img src=\"https://colab.research.google.com/assets/colab-badge.svg\" alt=\"Open In Colab\"/></a>"
      ]
    },
    {
      "cell_type": "markdown",
      "metadata": {
        "id": "TwA8FrMqogWg"
      },
      "source": [
        "## Numerical Methods to solve Initial Value Problems\n",
        "Solve the following Ordinary Differential Equation using Euler's Method: \n",
        "\\begin{align*}\n",
        "    \\frac{dy}{dx} = y+2x-x^2\\\\\n",
        "    y(0) = 1\n",
        "\\end{align*}\n",
        "### Euler's Method:"
      ]
    },
    {
      "cell_type": "code",
      "execution_count": null,
      "metadata": {
        "id": "31NP18wgpVws",
        "scrolled": true
      },
      "outputs": [],
      "source": [
        "import numpy as np\n",
        "import matplotlib.pyplot as plt\n",
        "\n",
        "a = 0;\n",
        "b = 2;\n",
        "N = 10;\n",
        "\n",
        "h = (b-a)/N;\n",
        "t = np.zeros(N+2)\n",
        "y = np.zeros(N+2)\n",
        "t[0] = 0\n",
        "y[0] = 1\n",
        "def f(t,y):\n",
        "    rhs = y+2*t-t**2\n",
        "    return rhs\n",
        "print(\"t\",\"y(t)\",sep = \"\\t\")\n",
        "print(\"-----------------------\")\n",
        "for i in range(0,N+1):\n",
        "    t[i+1] = t[i]+h\n",
        "    y[i+1] = y[i] + h*f(t[i],y[i])\n",
        "    print(round(t[i],2),y[i],sep = \"\\t\")\n",
        "\n",
        "Sol = np.exp(t)+t**2\n",
        "error = np.abs(Sol-y)\n",
        "print(error)\n",
        "plt.figure(figsize = (8,6))\n",
        "plt.plot(t,Sol,'k',label = \"Exact Solution\")\n",
        "plt.plot(t,y,'r',label = \"Euler's Approx\")\n",
        "plt.xlabel(\"t\")\n",
        "plt.ylabel(\"y(t)\")\n",
        "plt.legend()\n",
        "plt.grid(True)"
      ]
    },
    {
      "cell_type": "markdown",
      "metadata": {
        "id": "uk5RdZ9pqUlL"
      },
      "source": [
        "### Midpoint Method:\n"
      ]
    },
    {
      "cell_type": "code",
      "execution_count": null,
      "metadata": {
        "scrolled": false,
        "id": "mV7LnLveogWj"
      },
      "outputs": [],
      "source": [
        "import numpy as np\n",
        "import matplotlib.pyplot as plt\n",
        "\n",
        "a = 0;\n",
        "b = 2;\n",
        "N = 20;\n",
        "\n",
        "h = (b-a)/N;\n",
        "t = np.zeros(N+2)\n",
        "y = np.zeros(N+2)\n",
        "t[0] = 0\n",
        "y[0] = 1\n",
        "def f(t,y):\n",
        "    rhs = y+2*t-t**2\n",
        "    return rhs\n",
        "print(\"t\",\"y(t)\",sep = \"\\t\")\n",
        "print(\"-----------------------\")\n",
        "for i in range(0,N+1):\n",
        "    t[i+1] = t[i]+h\n",
        "    y[i+1] = y[i] + h*f(t[i]+h/2,y[i]+(h/2)*f(t[i],y[i]))\n",
        "    print(round(t[i],2),y[i],sep = \"\\t\")\n",
        "\n",
        "Sol = np.exp(t)+t**2\n",
        "\n",
        "plt.figure(figsize = (8,6))\n",
        "plt.plot(t,Sol,'k',label = \"Exact Solution\")\n",
        "plt.plot(t,y,'r',label = \"Euler's Approx\")\n",
        "plt.xlabel(\"t\")\n",
        "plt.ylabel(\"y(t)\")\n",
        "plt.legend()\n",
        "plt.grid(True)"
      ]
    },
    {
      "cell_type": "markdown",
      "metadata": {
        "id": "bhp2jJvSogWj"
      },
      "source": [
        "### Improved Euler's Method"
      ]
    },
    {
      "cell_type": "code",
      "execution_count": null,
      "metadata": {
        "scrolled": false,
        "id": "SmIAiH1TogWj"
      },
      "outputs": [],
      "source": [
        "import numpy as np\n",
        "import matplotlib.pyplot as plt\n",
        "\n",
        "a = 0;\n",
        "b = 2;\n",
        "N = 10;\n",
        "\n",
        "h = (b-a)/N;\n",
        "t = np.zeros(N+2)\n",
        "y = np.zeros(N+2)\n",
        "t[0] = 0\n",
        "y[0] = 1\n",
        "def f(t,y):\n",
        "    rhs = y+2*t-t**2\n",
        "    return rhs\n",
        "print(\"t\",\"y(t)\",sep = \"\\t\")\n",
        "print(\"-----------------------\")\n",
        "for i in range(0,N+1):\n",
        "    t[i+1] = t[i]+h\n",
        "    y[i+1] = y[i] + (h/2)*(f(t[i],y[i])+f(t[i]+h,y[i]+h*f(t[i],y[i])))\n",
        "    print(round(t[i],2),y[i],sep = \"\\t\")\n",
        "\n",
        "Sol = np.exp(t)+t**2\n",
        "\n",
        "plt.figure(figsize = (8,6))\n",
        "plt.plot(t,Sol,'k',label = \"Exact Solution\")\n",
        "plt.plot(t,y,'r',label = \"Euler's Approx\")\n",
        "plt.xlabel(\"t\")\n",
        "plt.ylabel(\"y(t)\")\n",
        "plt.legend()\n",
        "plt.grid(True)"
      ]
    },
    {
      "cell_type": "markdown",
      "metadata": {
        "id": "LWVd6G3uogWk"
      },
      "source": [
        "### Runge-Kutta Order 4 Method: "
      ]
    },
    {
      "cell_type": "code",
      "execution_count": null,
      "metadata": {
        "scrolled": false,
        "id": "l0SPnJngogWk"
      },
      "outputs": [],
      "source": [
        "import numpy as np\n",
        "import matplotlib.pyplot as plt\n",
        "\n",
        "a = 0;\n",
        "b = 2;\n",
        "N = 10;\n",
        "\n",
        "h = (b-a)/N;\n",
        "t = np.zeros(N+2)\n",
        "y = np.zeros(N+2)\n",
        "t[0] = 0\n",
        "y[0] = 1\n",
        "def f(t,y):\n",
        "    rhs = y+2*t-t**2\n",
        "    return rhs\n",
        "print(\"t\",\"y(t)\",sep = \"\\t\")\n",
        "print(\"-----------------------\")\n",
        "for i in range(0,N+1):\n",
        "    t[i+1] = t[i]+h\n",
        "    k1 = f(t[i],y[i])\n",
        "    k2 = f(t[i]+(h/2),y[i]+(h/2)*k1)\n",
        "    k3 = f(t[i]+(h/2),y[i]+(h/2)*k2)\n",
        "    k4 = f(t[i]+h, y[i]+h*k3)\n",
        "    y[i+1] = y[i] + (h/6)*(k1+2*k2+2*k3+k4)\n",
        "    print(round(t[i],2),y[i],sep = \"\\t\")\n",
        "\n",
        "Sol = np.exp(t)+t**2\n",
        "\n",
        "plt.figure(figsize = (8,6))\n",
        "plt.plot(t,Sol,'k',label = \"Exact Solution\")\n",
        "plt.plot(t,y,'r',label = \"Euler's Approx\")\n",
        "plt.xlabel(\"t\")\n",
        "plt.ylabel(\"y(t)\")\n",
        "plt.legend()\n",
        "plt.grid(True)"
      ]
    },
    {
      "cell_type": "code",
      "execution_count": null,
      "metadata": {
        "scrolled": false,
        "id": "w3CXaXF9ogWl"
      },
      "outputs": [],
      "source": [
        ""
      ]
    }
  ],
  "metadata": {
    "colab": {
      "name": "Numerical Methods for Initial Value Problems.ipynb",
      "private_outputs": true,
      "provenance": [],
      "include_colab_link": true
    },
    "kernelspec": {
      "display_name": "Python 3 (ipykernel)",
      "language": "python",
      "name": "python3"
    },
    "language_info": {
      "codemirror_mode": {
        "name": "ipython",
        "version": 3
      },
      "file_extension": ".py",
      "mimetype": "text/x-python",
      "name": "python",
      "nbconvert_exporter": "python",
      "pygments_lexer": "ipython3",
      "version": "3.9.7"
    }
  },
  "nbformat": 4,
  "nbformat_minor": 0
}